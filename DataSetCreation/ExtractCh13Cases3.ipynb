{
 "cells": [
  {
   "cell_type": "code",
   "execution_count": 1,
   "metadata": {},
   "outputs": [],
   "source": [
    "#Copyright April 1 2018, Warren E. Agin\n",
    "#Code released under the Creative Commons Attribution-NonCommercial-\n",
    "#ShareAlike 4.0 International License. You may obtain a copy of the license at \n",
    "#https://creativecommons.org/licenses/by-nc-sa/4.0/legalcode"
   ]
  },
  {
   "cell_type": "code",
   "execution_count": 1,
   "metadata": {},
   "outputs": [],
   "source": [
    "import csv\n",
    "import random"
   ]
  },
  {
   "cell_type": "code",
   "execution_count": null,
   "metadata": {},
   "outputs": [],
   "source": [
    "'''Script to pull data from full 2008-2017 IDB database and extract chapter 13 cases filed in fiscal years 2008 and 2009.\n",
    "Excludes substantially all duplicate cases, and trims small numbers of cases with bad data.\n",
    "Writes to a comma delimited text file called Ch13TrimmedExtract.csv after randomly shuffling the cases'''\n",
    "with open('Bank_2008on.txt', newline='') as importFile:\n",
    "    reader = csv.reader(importFile, delimiter='\\t')\n",
    "    count = 0\n",
    "    count2 = 0\n",
    "    holder = []\n",
    "    for row in reader:\n",
    "        if count==0:\n",
    "            header=row   #save the header for later\n",
    "        elif row[10]=='0' and row[16]=='13' and (row[15]=='2008' or row[15]=='2009') and row[68] is not None and row[68]!='' and row[23] is not None and row[23]!='' and row[37] is not None and row[37]!='' and row[3]=='1' and row[71] not in [\"D\",\"L\",\"M\",\"R\",\"X\",\"Y\",\"Z\"]:\n",
    "            holder.append(row)\n",
    "            #if characteristics met, write the row\n",
    "            #case must be the original filing, reopened cases are excluded\n",
    "            #case must be filed as a chapter 13 case'\n",
    "            #case must be filed in fiscal years 2008 or 2009\n",
    "            #case must not contain null values in certain closing indicator or feature columns\n",
    "            #case must have closed by the end of FY 2017\n",
    "            #cases with certain termination codes excluded, including transfers, filings or dispositions in error\n",
    "            count2 += 1\n",
    "        count += 1\n",
    "        if count % 1000000 == 0:\n",
    "            print(str(count)+\" found \"+str(count2)) #status every million datapoints\n",
    "print(\"Done reading\")\n",
    "\n",
    "#randomize the data\n",
    "random.shuffle(holder)\n",
    "\n",
    "#write the data to a new file\n",
    "with open('Ch13TrimmedExtract.csv', 'w', newline='') as exportFile:\n",
    "    writer = csv.writer(exportFile)\n",
    "    writer.writerow(header)\n",
    "    for row in holder:\n",
    "        writer.writerow(row)\n",
    "print(\"Completed w/ %s found\" % count2) #print completed when done                   "
   ]
  }
 ],
 "metadata": {
  "kernelspec": {
   "display_name": "Python 3",
   "language": "python",
   "name": "python3"
  },
  "language_info": {
   "codemirror_mode": {
    "name": "ipython",
    "version": 3
   },
   "file_extension": ".py",
   "mimetype": "text/x-python",
   "name": "python",
   "nbconvert_exporter": "python",
   "pygments_lexer": "ipython3",
   "version": "3.6.2"
  }
 },
 "nbformat": 4,
 "nbformat_minor": 2
}
