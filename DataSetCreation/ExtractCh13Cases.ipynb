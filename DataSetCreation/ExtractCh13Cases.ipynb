{
 "cells": [
  {
   "cell_type": "code",
   "execution_count": null,
   "metadata": {},
   "outputs": [],
   "source": [
    "#Copyright April 1 2018, Warren E. Agin\n",
    "#Code released under the Creative Commons Attribution-NonCommercial-\n",
    "#ShareAlike 4.0 International License. You may obtain a copy of the license at \n",
    "#https://creativecommons.org/licenses/by-nc-sa/4.0/legalcode"
   ]
  },
  {
   "cell_type": "code",
   "execution_count": null,
   "metadata": {},
   "outputs": [],
   "source": [
    "import csv"
   ]
  },
  {
   "cell_type": "code",
   "execution_count": null,
   "metadata": {},
   "outputs": [],
   "source": [
    "#open IDB data file and extract all chapter 13 cases filed in fiscal years 2008 or 2009\n",
    "#reduced data set is written to Ch13Extract.csv\n",
    "\n",
    "with open('Bank_2008on.txt', newline='') as importFile:\n",
    "    reader = csv.reader(importFile, delimiter='\\t')\n",
    "    count = 0\n",
    "    count2 = 0\n",
    "    with open('Ch13Extract.csv', 'w', newline='') as exportFile:\n",
    "        writer = csv.writer(exportFile)\n",
    "        for row in reader:\n",
    "            if count==0: #write the initial header row\n",
    "                writer.writerow(row)\n",
    "            elif row[10]=='0' and row[16]=='13' and (row[15]=='2008' or row[15]=='2009'): #if characteristics met, write the row\n",
    "                writer.writerow(row)\n",
    "                count2 += 1\n",
    "            count += 1\n",
    "            if count % 1000000 == 0: print(str(count)+\" found \"+str(count2)) #status every million datapoints\n",
    "        print(\"Completed w/ % found\" % count2) #print completed when done"
   ]
  }
 ],
 "metadata": {
  "kernelspec": {
   "display_name": "Python 3",
   "language": "python",
   "name": "python3"
  },
  "language_info": {
   "codemirror_mode": {
    "name": "ipython",
    "version": 3
   },
   "file_extension": ".py",
   "mimetype": "text/x-python",
   "name": "python",
   "nbconvert_exporter": "python",
   "pygments_lexer": "ipython3",
   "version": "3.6.2"
  }
 },
 "nbformat": 4,
 "nbformat_minor": 2
}
